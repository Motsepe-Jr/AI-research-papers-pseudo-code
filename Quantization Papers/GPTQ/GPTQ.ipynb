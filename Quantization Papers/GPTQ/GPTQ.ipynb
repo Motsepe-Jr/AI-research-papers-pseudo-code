{
  "nbformat": 4,
  "nbformat_minor": 0,
  "metadata": {
    "colab": {
      "provenance": []
    },
    "kernelspec": {
      "name": "python3",
      "display_name": "Python 3"
    },
    "language_info": {
      "name": "python"
    }
  },
  "cells": [
    {
      "cell_type": "code",
      "execution_count": null,
      "metadata": {
        "id": "pF2C0MiUAnTJ"
      },
      "outputs": [],
      "source": [
        "import numpy as np\n",
        "\n",
        "import numpy as np\n",
        "\n",
        "# Initialize the weight matrix and the pruning mask with random values\n",
        "size = (10, 10)\n",
        "W = np.random.randn(*size)\n",
        "\n",
        "# Calculate the inverse Hessian matrix via Cholesky decomposition\n",
        "H = np.dot(W.T, W)\n",
        "L = np.linalg.cholesky(H)\n",
        "H_inv = np.linalg.inv(H)\n",
        "\n",
        "# Define the block size for the weight matrix\n",
        "blocksize = 2\n",
        "lambda_val = 1.0\n",
        "\n",
        "drow, dcol = W.shape\n",
        "Q = np.zeros((drow, dcol))  # quantized output\n",
        "E = np.zeros((drow, blocksize))  # block quantization errors\n",
        "\n",
        "\n",
        "for i in range(0, dcol, blocksize):\n",
        "    for j in range(i, min(i + blocksize, dcol)):\n",
        "        scale, zero, maxq = find_params(W[:, j]), # find quantization parameters\n",
        "        Q[:, j] = quant(W[:, j], scale, zero, maxq)  # quantize column\n",
        "        E[:, j-i] = (W[:, j] - Q[:, j]) / H_inv[j, j]  # quantization error\n",
        "        W[:, j:i+blocksize] -= np.outer(E[:, j-i], H_inv[j, j:i+blocksize])  # update weights in block\n",
        "    \n",
        "    W[:, i+blocksize:] -= np.dot(E, H_inv[i:i+blocksize, i+blocksize:])  # update all remaining weights\n",
        "    \n",
        "\n",
        "def quant(x, scale, zero, maxq):\n",
        "    if maxq < 0:\n",
        "        return (x > scale / 2).float() * scale + (x < zero / 2).float() * zero\n",
        "    q = np.clip(np.round(x / scale) + zero, 0, maxq)\n",
        "    return scale * (q - zero)\n",
        "\n",
        "def find_params(x, bits=8):\n",
        "  maxq = 2 ** bits - 1\n",
        "  xmax = np.max(x)\n",
        "  xmin = np.min(x)\n",
        "  scale = (xmax - xmin) / maxq\n",
        "  zero = np.round(-xmin / scale)\n",
        "  return scale. zero, maxq\n",
        "\n",
        "quantized_W = Q"
      ]
    }
  ]
}